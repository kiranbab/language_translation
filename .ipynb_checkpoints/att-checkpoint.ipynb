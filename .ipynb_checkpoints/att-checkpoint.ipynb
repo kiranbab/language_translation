{
 "cells": [
  {
   "cell_type": "code",
   "execution_count": 1,
   "metadata": {},
   "outputs": [],
   "source": [
    "import numpy as np \n",
    "import math \n",
    "\n",
    "L=4 \n",
    "d_k=8 \n",
    "d_v=8 \n",
    "\n",
    "q =  np.random.randn(L,d_k)\n",
    "k = np.random.randn(L,d_k)\n",
    "v = np.random.randn(L,d_v)"
   ]
  },
  {
   "cell_type": "code",
   "execution_count": 2,
   "metadata": {},
   "outputs": [
    {
     "name": "stdout",
     "output_type": "stream",
     "text": [
      "Q\n",
      " [[-0.60087337  0.67126944  0.10155913 -0.56262346 -0.29803785 -0.64371564\n",
      "  -1.77434951 -0.43247704]\n",
      " [ 1.41529116  1.15419432  0.94093452 -0.39003198 -0.33027558  0.31177575\n",
      "   2.34971453 -1.24471776]\n",
      " [ 0.92799613  0.98204705  0.20427134  0.16590866  0.12791263  0.51208834\n",
      "  -1.02985297 -0.8018781 ]\n",
      " [-1.18241538  1.69178656  1.35520237 -0.33319779 -0.33230956 -0.55309424\n",
      "  -1.3147787   0.41832086]]\n",
      "K\n",
      " [[ 0.03748189  1.32113663 -0.19559103  0.76798485 -0.61702103  0.68311583\n",
      "   0.26122876 -1.70856663]\n",
      " [ 0.2688312  -0.58306262 -1.80113194 -0.21124517  0.01961988 -0.83930528\n",
      "  -1.85188961 -0.44364818]\n",
      " [-0.61877628  0.0722166  -0.22168985 -0.35508975  1.45235031  0.18310505\n",
      "  -0.83558277  0.63557983]\n",
      " [ 0.32635305  0.90611673  0.01438686  0.26540867  0.24560787  0.62358916\n",
      "   0.15555017  0.65271815]]\n",
      "V\n",
      " [[ 0.73787103  0.97619508 -0.62239097 -1.74958448  1.01466807 -0.20068913\n",
      "   0.69767578  0.50861492]\n",
      " [-0.54120173 -2.68806698 -1.35214856 -0.72126805 -0.32167995 -0.89597551\n",
      "  -0.15932599 -1.16069217]\n",
      " [ 1.64756231  0.03189349  0.24756256  0.40598221  0.41975721  0.38606912\n",
      "   2.06811879  0.13542511]\n",
      " [-0.69040216 -1.07804875 -0.32634916 -1.3546908   0.49384491  1.31507778\n",
      "  -0.17619524  0.45531578]]\n"
     ]
    }
   ],
   "source": [
    "print(\"Q\\n\",q )\n",
    "print(\"K\\n\",k )\n",
    "print(\"V\\n\",v )\n"
   ]
  },
  {
   "cell_type": "markdown",
   "metadata": {},
   "source": [
    "#### Self attention"
   ]
  },
  {
   "cell_type": "code",
   "execution_count": 3,
   "metadata": {},
   "outputs": [
    {
     "data": {
      "text/plain": [
       "array([[ 0.43193442,  3.39519801,  1.25456943, -0.76861295],\n",
       "       [ 4.25158135, -5.97219815, -4.03958251,  1.08408892],\n",
       "       [ 2.79158889,  1.1095493 ,  0.02291053,  0.90683094],\n",
       "       [ 0.43883323, -0.96786673,  1.45228467,  0.7201449 ]])"
      ]
     },
     "execution_count": 3,
     "metadata": {},
     "output_type": "execute_result"
    }
   ],
   "source": [
    "np.matmul(q,k.T)"
   ]
  },
  {
   "cell_type": "code",
   "execution_count": 4,
   "metadata": {},
   "outputs": [
    {
     "data": {
      "text/plain": [
       "(0.9050171287890647, 0.6214784005589036, 6.024063668856972)"
      ]
     },
     "execution_count": 4,
     "metadata": {},
     "output_type": "execute_result"
    }
   ],
   "source": [
    "# now divide by sqrt(d_k) since we want to reduce the variance \n",
    "q.var(), k.var(), np.matmul(q,k.T).var() "
   ]
  },
  {
   "cell_type": "code",
   "execution_count": 5,
   "metadata": {},
   "outputs": [
    {
     "data": {
      "text/plain": [
       "(0.9050171287890647, 0.6214784005589036, 0.7530079586071213)"
      ]
     },
     "execution_count": 5,
     "metadata": {},
     "output_type": "execute_result"
    }
   ],
   "source": [
    "scaled = np.matmul(q,k.T)/math.sqrt(d_k)\n",
    "q.var(), k.var(), scaled.var() \n"
   ]
  },
  {
   "cell_type": "code",
   "execution_count": 6,
   "metadata": {},
   "outputs": [
    {
     "data": {
      "text/plain": [
       "array([[ 0.15271188,  1.20038377,  0.44355728, -0.27174571],\n",
       "       [ 1.503161  , -2.1114909 , -1.42820809,  0.38328331],\n",
       "       [ 0.98697572,  0.39228492,  0.0081001 ,  0.32061316],\n",
       "       [ 0.15515098, -0.34219257,  0.51346017,  0.25460967]])"
      ]
     },
     "execution_count": 6,
     "metadata": {},
     "output_type": "execute_result"
    }
   ],
   "source": [
    "# now we can see the reduction in variance of the producet \n",
    "scaled"
   ]
  },
  {
   "cell_type": "markdown",
   "metadata": {},
   "source": [
    "### Masking \n",
    "* This is to ensure words dont get context from words generated in future\n",
    "* Not required in encoders(since all words are input at a time), but required in decoder \n"
   ]
  },
  {
   "cell_type": "code",
   "execution_count": 8,
   "metadata": {},
   "outputs": [
    {
     "data": {
      "text/plain": [
       "array([[1., 0., 0., 0.],\n",
       "       [1., 1., 0., 0.],\n",
       "       [1., 1., 1., 0.],\n",
       "       [1., 1., 1., 1.]])"
      ]
     },
     "execution_count": 8,
     "metadata": {},
     "output_type": "execute_result"
    }
   ],
   "source": [
    "mask = np.tril(np.ones((L,L)))\n",
    "mask "
   ]
  },
  {
   "cell_type": "code",
   "execution_count": 9,
   "metadata": {},
   "outputs": [],
   "source": [
    "mask[mask==0] = -np.infty \n",
    "mask[mask==1] = 0"
   ]
  },
  {
   "cell_type": "code",
   "execution_count": 10,
   "metadata": {},
   "outputs": [
    {
     "data": {
      "text/plain": [
       "array([[ 0.15271188,        -inf,        -inf,        -inf],\n",
       "       [ 1.503161  , -2.1114909 ,        -inf,        -inf],\n",
       "       [ 0.98697572,  0.39228492,  0.0081001 ,        -inf],\n",
       "       [ 0.15515098, -0.34219257,  0.51346017,  0.25460967]])"
      ]
     },
     "execution_count": 10,
     "metadata": {},
     "output_type": "execute_result"
    }
   ],
   "source": [
    "scaled + mask "
   ]
  },
  {
   "cell_type": "code",
   "execution_count": 11,
   "metadata": {},
   "outputs": [],
   "source": [
    "def softmax(x):\n",
    "    return (np.exp(x).T / np.sum(np.exp(x),axis=-1)).T"
   ]
  },
  {
   "cell_type": "code",
   "execution_count": 12,
   "metadata": {},
   "outputs": [],
   "source": [
    "attention = softmax(scaled + mask)"
   ]
  },
  {
   "cell_type": "code",
   "execution_count": 13,
   "metadata": {},
   "outputs": [
    {
     "data": {
      "text/plain": [
       "array([[ 0.73787103,  0.97619508, -0.62239097, -1.74958448,  1.01466807,\n",
       "        -0.20068913,  0.69767578,  0.50861492],\n",
       "       [ 0.70433339,  0.8801171 , -0.64152542, -1.72262173,  0.97962865,\n",
       "        -0.21891974,  0.67520495,  0.46484521],\n",
       "       [ 0.54907112, -0.2567708 , -0.66169692, -1.03503275,  0.51617155,\n",
       "        -0.28533284,  0.71951006, -0.04196892],\n",
       "       [ 0.48355077, -0.43529122, -0.35015941, -0.74901829,  0.47426155,\n",
       "         0.30395061,  0.81219945,  0.1205363 ]])"
      ]
     },
     "execution_count": 13,
     "metadata": {},
     "output_type": "execute_result"
    }
   ],
   "source": [
    "new_v = np.matmul(attention,v)\n",
    "new_v"
   ]
  },
  {
   "cell_type": "code",
   "execution_count": 14,
   "metadata": {},
   "outputs": [
    {
     "data": {
      "text/plain": [
       "array([[ 0.73787103,  0.97619508, -0.62239097, -1.74958448,  1.01466807,\n",
       "        -0.20068913,  0.69767578,  0.50861492],\n",
       "       [-0.54120173, -2.68806698, -1.35214856, -0.72126805, -0.32167995,\n",
       "        -0.89597551, -0.15932599, -1.16069217],\n",
       "       [ 1.64756231,  0.03189349,  0.24756256,  0.40598221,  0.41975721,\n",
       "         0.38606912,  2.06811879,  0.13542511],\n",
       "       [-0.69040216, -1.07804875, -0.32634916, -1.3546908 ,  0.49384491,\n",
       "         1.31507778, -0.17619524,  0.45531578]])"
      ]
     },
     "execution_count": 14,
     "metadata": {},
     "output_type": "execute_result"
    }
   ],
   "source": [
    "v"
   ]
  },
  {
   "cell_type": "code",
   "execution_count": null,
   "metadata": {},
   "outputs": [],
   "source": []
  }
 ],
 "metadata": {
  "kernelspec": {
   "display_name": "Python 3 (ipykernel)",
   "language": "python",
   "name": "python3"
  },
  "language_info": {
   "codemirror_mode": {
    "name": "ipython",
    "version": 3
   },
   "file_extension": ".py",
   "mimetype": "text/x-python",
   "name": "python",
   "nbconvert_exporter": "python",
   "pygments_lexer": "ipython3",
   "version": "3.11.5"
  }
 },
 "nbformat": 4,
 "nbformat_minor": 2
}
